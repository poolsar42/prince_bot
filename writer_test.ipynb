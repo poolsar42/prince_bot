{
 "cells": [
  {
   "cell_type": "code",
   "execution_count": 10,
   "metadata": {},
   "outputs": [],
   "source": [
    "import requests\n",
    "from time import sleep"
   ]
  },
  {
   "cell_type": "code",
   "execution_count": 12,
   "metadata": {},
   "outputs": [],
   "source": [
    "url = \"https://api.telegram.org/bot1196156886:AAGUU5iKVRQ9piTXQgu4Fy8M57mT5wlFTus/\""
   ]
  },
  {
   "cell_type": "code",
   "execution_count": 13,
   "metadata": {},
   "outputs": [],
   "source": [
    "def get_updates_json(request):  \n",
    "    response = requests.get(request + 'getUpdates')\n",
    "    return response.json()"
   ]
  },
  {
   "cell_type": "code",
   "execution_count": 14,
   "metadata": {},
   "outputs": [],
   "source": [
    "def last_update(data):  \n",
    "    results = data['result']\n",
    "    total_updates = len(results) - 1\n",
    "    return results[total_updates]"
   ]
  },
  {
   "cell_type": "code",
   "execution_count": 15,
   "metadata": {},
   "outputs": [],
   "source": [
    "def get_chat_id(update):  \n",
    "    chat_id = update['message']['chat']['id']\n",
    "    return chat_id"
   ]
  },
  {
   "cell_type": "code",
   "execution_count": 16,
   "metadata": {},
   "outputs": [],
   "source": [
    "def send_mess(chat, text):  \n",
    "    params = {'chat_id': chat, 'text': text}\n",
    "    response = requests.post(url + 'sendMessage', data=params)\n",
    "    return response"
   ]
  },
  {
   "cell_type": "code",
   "execution_count": null,
   "metadata": {},
   "outputs": [],
   "source": [
    "def main():  \n",
    "    update_id = last_update(get_updates_json(url))['update_id']\n",
    "    while True:\n",
    "        if update_id == last_update(get_updates_json(url))['update_id']:\n",
    "           send_mess(get_chat_id(last_update(get_updates_json(url))), 'test')\n",
    "           update_id += 1\n",
    "        sleep(1)       \n",
    "\n",
    "if __name__ == '__main__':  \n",
    "    main()"
   ]
  }
 ],
 "metadata": {
  "kernelspec": {
   "display_name": "Python 3",
   "language": "python",
   "name": "python3"
  },
  "language_info": {
   "codemirror_mode": {
    "name": "ipython",
    "version": 3
   },
   "file_extension": ".py",
   "mimetype": "text/x-python",
   "name": "python",
   "nbconvert_exporter": "python",
   "pygments_lexer": "ipython3",
   "version": "3.7.4"
  }
 },
 "nbformat": 4,
 "nbformat_minor": 2
}
