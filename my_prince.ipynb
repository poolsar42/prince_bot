{
 "cells": [
  {
   "cell_type": "code",
   "execution_count": 1,
   "metadata": {},
   "outputs": [],
   "source": [
    "import requests  "
   ]
  },
  {
   "cell_type": "code",
   "execution_count": 2,
   "metadata": {},
   "outputs": [],
   "source": [
    "class BotHandler:\n",
    "\n",
    "    def __init__(self, token):\n",
    "        self.token = token\n",
    "        self.api_url = \"https://api.telegram.org/bot{}/\".format(token)\n",
    "\n",
    "    def get_updates(self, offset=None, timeout=30):\n",
    "        method = 'getUpdates'\n",
    "        params = {'timeout': timeout, 'offset': offset}\n",
    "        resp = requests.get(self.api_url + method, params)\n",
    "        result_json = resp.json()['result']\n",
    "        return result_json\n",
    "\n",
    "    def send_message(self, chat_id, text):\n",
    "        params = {'chat_id': chat_id, 'text': text}\n",
    "        method = 'sendMessage'\n",
    "        resp = requests.post(self.api_url + method, params)\n",
    "        return resp\n",
    "\n",
    "    def get_last_update(self):\n",
    "        get_result = self.get_updates()\n",
    "        if len(get_result) > 0:\n",
    "            last_update = get_result[-1]\n",
    "        else:\n",
    "            last_update = get_result[len(get_result)]\n",
    "        return last_update"
   ]
  },
  {
   "cell_type": "code",
   "execution_count": 3,
   "metadata": {},
   "outputs": [],
   "source": [
    "token = '1196156886:AAGUU5iKVRQ9piTXQgu4Fy8M57mT5wlFTus'\n",
    "prince_bot = BotHandler(token)\n",
    "prince_text = ('q', 'йо')"
   ]
  },
  {
   "cell_type": "code",
   "execution_count": 52,
   "metadata": {},
   "outputs": [],
   "source": [
    "def main():  \n",
    "    new_offset = None\n",
    "    greeting = False\n",
    "    \n",
    "    while True:\n",
    "        prince_bot.get_updates(new_offset)\n",
    "        \n",
    "        last_update = prince_bot.get_last_update()\n",
    "\n",
    "        last_update_id = last_update['update_id']\n",
    "        last_chat_text = last_update['message']['text']\n",
    "        last_chat_id = last_update['message']['chat']['id']\n",
    "        last_chat_name = last_update['message']['chat']['first_name']\n",
    "\n",
    "        if last_chat_text.lower() == 'кончаю':\n",
    "            break\n",
    "            \n",
    "        if (not greeting):\n",
    "            prince_bot.send_message(last_chat_id, 'йоу')   \n",
    "        \n",
    "        if (not greeting):\n",
    "            prince_bot.send_message(last_chat_id, 'забудь, что я бот')\n",
    "            \n",
    "        if (not greeting):\n",
    "            prince_bot.send_message(last_chat_id, 'это будет сложно, потому что я не могу нормально отвечать')   \n",
    "        \n",
    "        if (not greeting):\n",
    "            prince_bot.send_message(last_chat_id, 'но ты постарайся')\n",
    "            \n",
    "        if (not greeting):\n",
    "            prince_bot.send_message(last_chat_id, 'чтобы закончить общаться, напиши \"кончаю\" без кавычек')   \n",
    "        \n",
    "        if (not greeting):\n",
    "            prince_bot.send_message(last_chat_id, 'надеюсь, мы тут хорошо поболтаем')   \n",
    "    \n",
    "        if (not greeting):\n",
    "            prince_bot.send_message(last_chat_id, 'и, чуть не забыл')   \n",
    "        \n",
    "        if (not greeting):\n",
    "            prince_bot.send_message(last_chat_id, 'я люблю аниме')    \n",
    "        \n",
    "        if last_chat_text.lower() and greeting:\n",
    "            prince_bot.send_message(last_chat_id, 'отвянь, мудила')\n",
    "        \n",
    "        greeting = True\n",
    "        \n",
    "        if last_chat_text.lower() == 'кончаю':\n",
    "            break\n",
    "            \n",
    "        new_offset = last_update_id + 1"
   ]
  },
  {
   "cell_type": "code",
   "execution_count": 53,
   "metadata": {},
   "outputs": [],
   "source": [
    "if __name__ == '__main__':  \n",
    "    try:\n",
    "        main()\n",
    "    except KeyboardInterrupt:\n",
    "        exit()"
   ]
  }
 ],
 "metadata": {
  "kernelspec": {
   "display_name": "Python 3",
   "language": "python",
   "name": "python3"
  },
  "language_info": {
   "codemirror_mode": {
    "name": "ipython",
    "version": 3
   },
   "file_extension": ".py",
   "mimetype": "text/x-python",
   "name": "python",
   "nbconvert_exporter": "python",
   "pygments_lexer": "ipython3",
   "version": "3.7.4"
  }
 },
 "nbformat": 4,
 "nbformat_minor": 2
}
