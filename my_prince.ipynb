{
 "cells": [
  {
   "cell_type": "code",
   "execution_count": 23,
   "metadata": {},
   "outputs": [],
   "source": [
    "import requests\n",
    "import random\n",
    "from time import sleep"
   ]
  },
  {
   "cell_type": "code",
   "execution_count": 36,
   "metadata": {},
   "outputs": [],
   "source": [
    "class BotBoss:\n",
    "\n",
    "    def __init__(self, token):\n",
    "        self.token = token\n",
    "        self.api_url = \"https://api.telegram.org/bot{}/\".format(token)\n",
    "\n",
    "    def get_updates(self, offset=None, timeout=10800):\n",
    "        method = 'getUpdates'\n",
    "        params = {'timeout': timeout, 'offset': offset}\n",
    "        resp = requests.get(self.api_url + method, params)\n",
    "        result_json = resp.json()['result']\n",
    "        return result_json\n",
    "\n",
    "    def send_message(self, chat_id, text):\n",
    "        params = {'chat_id': chat_id, 'text': text}\n",
    "        method = 'sendMessage'\n",
    "        resp = requests.post(self.api_url + method, params)\n",
    "        return resp\n",
    "\n",
    "    def get_last_update(self):\n",
    "        get_result = self.get_updates()\n",
    "        if len(get_result) > 0:\n",
    "            last_update = get_result[-1]\n",
    "        else:\n",
    "            last_update = get_result[len(get_result)]\n",
    "        return last_update"
   ]
  },
  {
   "cell_type": "code",
   "execution_count": 37,
   "metadata": {},
   "outputs": [],
   "source": [
    "token = '1196156886:AAGUU5iKVRQ9piTXQgu4Fy8M57mT5wlFTus'\n",
    "prince_bot = BotBoss(token)\n",
    "prince_text = ('привет', 'йо', 'йоу', 'за что это мне', 'мне похуй', 'как-то', 'это ирония!', 'шучу',\n",
    "              'шутку пошутил', 'я топлю котят', 'ты мне нравишься', 'ты мне не нравишься', 'го трахаться',\n",
    "              'секс', 'я не гей', 'я люблю детей', 'я не люблю детей', 'жду своего пришельца', \n",
    "              'что делаешь?', 'я хочу найти себе друга', 'мне не нужны друзья', 'я бот', 'ты бот',\n",
    "              'хоть я и бот, но у меня есть сердце', 'отвали', 'отсоси', 'люблю онигири', 'смотрю наруто',\n",
    "              'я живу в постоянном страхе', 'не хочу тебя потерять', 'ты не пацан',\n",
    "              'сильный не тот, кто слабый', 'после такой атаки ты не встанешь', 'дам тебе пизды',\n",
    "              'любишь меня?', 'пойдём гулять', 'как мы с этим справимся', '?', 'чё', 'хуй', 'манда-сама',\n",
    "              'чё смотришь?', 'разговор будет серьёзный', 'что-то не так', 'у тебя есть член?', 'не обижай меня',\n",
    "              'я тебя не обижу', 'мы друзья', 'купи шмоток', 'выглядишь как бомж', 'у тебя руки грязные?',\n",
    "              'если у тебя грязные руки, то можно подумать, что ты бомжу вздрочнул', 'а', 'ты кто', 'ты пизда',\n",
    "              'ты пацан', 'у тебя есть щупальца?', 'я отшельник', 'вхожу в режим санитара', 'что происходит',\n",
    "              'куда смотреть?', 'вижу, у тебя нет амбиций', 'открой глаза', 'мы во власти государства',\n",
    "              'нам некуда убежать', 'я буду стоять на месте', 'и ты тоже', 'так мы будем жить', 'так мы и умрём',\n",
    "              'скоро я буду разговаривать более осмысленно при помощи машинки', 'тебе надо подождать',\n",
    "              'скоро я буду рассказывать истории', 'скоро я буду кидать фотки', 'скоро я буду делиться видосами')"
   ]
  },
  {
   "cell_type": "code",
   "execution_count": 38,
   "metadata": {},
   "outputs": [],
   "source": [
    "def main():  \n",
    "    new_offset = None\n",
    "    greeting = False\n",
    "    \n",
    "    while True:\n",
    "        prince_bot.get_updates(new_offset)\n",
    "        \n",
    "        last_update = prince_bot.get_last_update()\n",
    "\n",
    "        last_update_id = last_update['update_id']\n",
    "        last_chat_text = last_update['message']['text']\n",
    "        last_chat_id = last_update['message']['chat']['id']\n",
    "        last_chat_name = last_update['message']['chat']['first_name']\n",
    "\n",
    "        if last_chat_text.lower() == 'кончаю':\n",
    "            prince_bot.send_message(last_chat_id, 'пока')  \n",
    "            break\n",
    "            \n",
    "        if (not greeting):\n",
    "            prince_bot.send_message(last_chat_id, 'йоу')   \n",
    "        \n",
    "        if (not greeting):\n",
    "            prince_bot.send_message(last_chat_id, 'забудь, что я бот')\n",
    "            \n",
    "        if (not greeting):\n",
    "            prince_bot.send_message(last_chat_id, 'это будет сложно, потому что я не могу нормально отвечать')   \n",
    "        \n",
    "        if (not greeting):\n",
    "            prince_bot.send_message(last_chat_id, 'но ты постарайся')\n",
    "            \n",
    "        if (not greeting):\n",
    "            prince_bot.send_message(last_chat_id, 'чтобы закончить общаться, напиши \"кончаю\" без кавычек')   \n",
    "        \n",
    "        if (not greeting):\n",
    "            prince_bot.send_message(last_chat_id, 'надеюсь, мы тут хорошо поболтаем')   \n",
    "    \n",
    "        if (not greeting):\n",
    "            prince_bot.send_message(last_chat_id, 'и, чуть не забыл')   \n",
    "        \n",
    "        if (not greeting):\n",
    "            prince_bot.send_message(last_chat_id, 'я люблю аниме')  \n",
    "            \n",
    "        if (not greeting):\n",
    "            prince_bot.send_message(last_chat_id, 'чтобы начать общаться твоим последним сообщение должно быть не \"кончаю\"')    \n",
    "        \n",
    "        \n",
    "        if last_chat_text.lower() and greeting:\n",
    "            count = random.randint(1, 5)\n",
    "            for i in range(count):\n",
    "                number = random.randint(0, len(prince_text)-1)\n",
    "                prince_bot.send_message(last_chat_id, prince_text[number])\n",
    "                natural = random.randint(0, 1)\n",
    "                decimal = random.randint(0, 9)\n",
    "                time = float(str(natural) + '.' + str(decimal))\n",
    "                sleep(time)\n",
    "        \n",
    "        greeting = True\n",
    "            \n",
    "        new_offset = last_update_id + 1"
   ]
  },
  {
   "cell_type": "code",
   "execution_count": 39,
   "metadata": {},
   "outputs": [],
   "source": [
    "if __name__ == '__main__':  \n",
    "    try:\n",
    "        main()\n",
    "    except KeyboardInterrupt:\n",
    "        exit()"
   ]
  },
  {
   "cell_type": "code",
   "execution_count": 16,
   "metadata": {},
   "outputs": [
    {
     "name": "stdout",
     "output_type": "stream",
     "text": [
      "{'update_id': 94155964, 'message': {'message_id': 914, 'from': {'id': 437605031, 'is_bot': False, 'first_name': 'Emil', 'username': 'poolsarman', 'language_code': 'en'}, 'chat': {'id': 437605031, 'first_name': 'Emil', 'username': 'poolsarman', 'type': 'private'}, 'date': 1597067159, 'text': 'й'}}\n"
     ]
    }
   ],
   "source": [
    "print(prince_bot.get_last_update())"
   ]
  }
 ],
 "metadata": {
  "kernelspec": {
   "display_name": "Python 3",
   "language": "python",
   "name": "python3"
  },
  "language_info": {
   "codemirror_mode": {
    "name": "ipython",
    "version": 3
   },
   "file_extension": ".py",
   "mimetype": "text/x-python",
   "name": "python",
   "nbconvert_exporter": "python",
   "pygments_lexer": "ipython3",
   "version": "3.7.4"
  }
 },
 "nbformat": 4,
 "nbformat_minor": 2
}
